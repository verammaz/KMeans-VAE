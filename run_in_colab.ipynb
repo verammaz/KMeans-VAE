{
  "cells": [
    {
      "cell_type": "markdown",
      "metadata": {
        "id": "view-in-github",
        "colab_type": "text"
      },
      "source": [
        "<a href=\"https://colab.research.google.com/github/verammaz/KMeans-VAE/blob/main/run_in_colab.ipynb\" target=\"_parent\"><img src=\"https://colab.research.google.com/assets/colab-badge.svg\" alt=\"Open In Colab\"/></a>"
      ]
    },
    {
      "cell_type": "markdown",
      "metadata": {
        "id": "header"
      },
      "source": [
        "# VAE Training Pipeline on Google Colab\n",
        "\n",
        "This notebook provides a complete workflow for:\n",
        "1. Setting up the environment\n",
        "2. Generating synthetic datasets (Gaussian & Bernoulli)\n",
        "3. Training a Variational Autoencoder (VAE)\n",
        "4. Analyzing and visualizing results\n",
        "\n",
        "**Runtime:** GPU recommended for faster training (Runtime → Change runtime type → GPU)\n",
        "\n",
        "---"
      ]
    },
    {
      "cell_type": "markdown",
      "metadata": {
        "id": "setup"
      },
      "source": [
        "## Setup & Installation"
      ]
    },
    {
      "cell_type": "code",
      "source": [
        "    from google.colab import auth\n",
        "    auth.authenticate_user()"
      ],
      "metadata": {
        "id": "fvLrbXCciexp"
      },
      "execution_count": null,
      "outputs": []
    },
    {
      "cell_type": "code",
      "execution_count": null,
      "metadata": {
        "id": "install_packages"
      },
      "outputs": [],
      "source": [
        "# Install required packages\n",
        "! pip install -q torch torchvision tqdm matplotlib wandb\n",
        "\n",
        "print(\"Packages installed successfully!\")"
      ]
    },
    {
      "cell_type": "code",
      "execution_count": null,
      "metadata": {
        "id": "check_gpu"
      },
      "outputs": [],
      "source": [
        "# Check available device\n",
        "import torch\n",
        "import sys\n",
        "\n",
        "print(f\"Python version: {sys.version}\")\n",
        "print(f\"PyTorch version: {torch.__version__}\")\n",
        "print(f\"CUDA available: {torch.cuda.is_available()}\")\n",
        "if torch.cuda.is_available():\n",
        "    print(f\"CUDA device: {torch.cuda.get_device_name(0)}\")\n",
        "    print(f\"CUDA version: {torch.version.cuda}\")"
      ]
    },
    {
      "cell_type": "markdown",
      "metadata": {
        "id": "upload_code"
      },
      "source": [
        "## Clone GitHub Repo\n"
      ]
    },
    {
      "cell_type": "code",
      "execution_count": null,
      "metadata": {
        "id": "clone_repo"
      },
      "outputs": [],
      "source": [
        "! git clone https://github.com/verammaz/KMeans-VAE.git\n",
        "%cd KMeans-VAE"
      ]
    },
    {
      "cell_type": "markdown",
      "metadata": {
        "id": "wandb_setup"
      },
      "source": [
        "## W&B Setup (Optional)\n",
        "\n",
        "If you want to log experiments to Weights & Biases:"
      ]
    },
    {
      "cell_type": "code",
      "execution_count": null,
      "metadata": {
        "id": "wandb_login",
        "collapsed": true
      },
      "outputs": [],
      "source": [
        "USE_WANDB = True  # Set to True if you want W&B logging\n",
        "\n",
        "if USE_WANDB:\n",
        "    import wandb\n",
        "    wandb.login()\n",
        "    print(\"W&B configured!\")\n",
        "else:\n",
        "    print(\"W&B logging disabled. Set USE_WANDB=True to enable.\")"
      ]
    },
    {
      "cell_type": "markdown",
      "metadata": {
        "id": "data_gen_section"
      },
      "source": [
        "## Step 1: Generate Synthetic Datasets\n",
        "\n",
        "Generate both Gaussian and Bernoulli mixture datasets."
      ]
    },
    {
      "cell_type": "code",
      "execution_count": null,
      "metadata": {
        "id": "generate_data"
      },
      "outputs": [],
      "source": [
        "# Generate datasets\n",
        "! python data/make_datasets.py \\\n",
        "    --k 5 \\\n",
        "    --dims 64 \\\n",
        "    --target-mb 256 \\\n",
        "    --seed 42 \\\n",
        "    --outroot ./data_set\n",
        "\n"
      ]
    },
    {
      "cell_type": "code",
      "execution_count": null,
      "metadata": {
        "id": "check_data"
      },
      "outputs": [],
      "source": [
        "# Verify data generation\n",
        "import os\n",
        "import json\n",
        "\n",
        "for dataset in ['gaussian_raw', 'bernoulli_raw']:\n",
        "    path = f'./data_set/{dataset}'\n",
        "    if os.path.exists(path):\n",
        "        with open(os.path.join(path, 'metadata.json')) as f:\n",
        "            meta = json.load(f)\n",
        "        print(f\"\\n{dataset}:\")\n",
        "        print(f\"  Type: {meta['type']}\")\n",
        "        print(f\"  Classes: {meta['k']}\")\n",
        "        print(f\"  Dimensions: {meta['dims']}\")\n",
        "        print(f\"  Samples per class: {meta['n_per']}\")"
      ]
    },
    {
      "cell_type": "markdown",
      "metadata": {
        "id": "train_section"
      },
      "source": [
        "## Step 2: Train VAE\n",
        "\n",
        "Choose your configuration and train the model."
      ]
    },
    {
      "cell_type": "markdown",
      "metadata": {
        "id": "config_section"
      },
      "source": [
        "### Configuration Options"
      ]
    },
    {
      "cell_type": "code",
      "execution_count": null,
      "metadata": {
        "id": "config_params"
      },
      "outputs": [],
      "source": [
        "# Training configuration\n",
        "CONFIG = {\n",
        "    # Dataset\n",
        "    'dataset': 'gaussian',  # 'gaussian' or 'bernoulli'\n",
        "\n",
        "    # Model architecture\n",
        "    'latent_dim': 10,\n",
        "    'hidden_dims': [128, 64],\n",
        "    'kl_beta': 1.0,  # 1.0 = standard VAE, >1.0 = beta-VAE\n",
        "    'activation': 'LeakyReLU',\n",
        "\n",
        "    # Training\n",
        "    'epochs': 1,\n",
        "    'batch_size': 128,\n",
        "    'lr': 3e-4,\n",
        "    'optimizer': 'adam',\n",
        "\n",
        "    # System\n",
        "    'seed': 3407,\n",
        "    'device': 'auto',  # 'auto', 'cuda', 'cpu'\n",
        "\n",
        "    # W&B (if enabled)\n",
        "    'use_wandb': USE_WANDB,\n",
        "    'wandb_project': 'vae-colab-experiments',\n",
        "    'wandb_name': None,  # Auto-generated if None\n",
        "}\n",
        "\n",
        "print(\"Configuration:\")\n",
        "for k, v in CONFIG.items():\n",
        "    print(f\"  {k}: {v}\")"
      ]
    },
    {
      "cell_type": "markdown",
      "metadata": {
        "id": "train_quick"
      },
      "source": [
        "### Quick Training Presets\n",
        "\n",
        "Uncomment one to use:"
      ]
    },
    {
      "cell_type": "code",
      "execution_count": null,
      "metadata": {
        "id": "presets"
      },
      "outputs": [],
      "source": [
        "# Preset 1: Quick test (fast, for debugging)\n",
        "# CONFIG.update({'epochs': 10, 'latent_dim': 5, 'hidden_dims': [64, 32]})\n",
        "\n",
        "# Preset 2: Standard VAE\n",
        "# CONFIG.update({'epochs': 50, 'latent_dim': 10, 'kl_beta': 1.0})\n",
        "\n",
        "# Preset 3: Beta-VAE (disentanglement)\n",
        "# CONFIG.update({'epochs': 100, 'latent_dim': 20, 'kl_beta': 4.0})\n",
        "\n",
        "# Preset 4: High capacity\n",
        "# CONFIG.update({'epochs': 100, 'latent_dim': 20, 'hidden_dims': [256, 128, 64]})\n",
        "\n",
        "print(\"Using configuration:\", CONFIG['dataset'], \"dataset\")"
      ]
    },
    {
      "cell_type": "markdown",
      "metadata": {
        "id": "train_command"
      },
      "source": [
        "### Run Training"
      ]
    },
    {
      "cell_type": "code",
      "execution_count": null,
      "metadata": {
        "id": "train_model"
      },
      "outputs": [],
      "source": [
        "# Build command line arguments\n",
        "data_dir = f\"data_set/{CONFIG['dataset']}_raw\"\n",
        "hidden_dims_str = str(CONFIG['hidden_dims']).replace(' ', '')\n",
        "\n",
        "cmd = f\"\"\"\n",
        "python -m vae.main \\\n",
        "    --data.data_dir={data_dir} \\\n",
        "    --model.latent_dim={CONFIG['latent_dim']} \\\n",
        "    --model.hidden_dims={hidden_dims_str} \\\n",
        "    --model.kl_beta={CONFIG['kl_beta']} \\\n",
        "    --model.activation={CONFIG['activation']} \\\n",
        "    --trainer.epochs={CONFIG['epochs']} \\\n",
        "    --trainer.batch_size={CONFIG['batch_size']} \\\n",
        "    --trainer.lr={CONFIG['lr']} \\\n",
        "    --trainer.optimizer={CONFIG['optimizer']} \\\n",
        "    --trainer.device={CONFIG['device']} \\\n",
        "    --system.seed={CONFIG['seed']} \\\n",
        "\"\"\"\n",
        "\n",
        "MODEL_NAME = f\"vae_{CONFIG['dataset']}_z{CONFIG['latent_dim']}_beta{CONFIG['kl_beta']}\"\n",
        "\n",
        "# Add W&B flags if enabled\n",
        "if CONFIG['use_wandb']:\n",
        "    cmd += f\" \\\n",
        "    --wandb.enabled=True \\\n",
        "    --wandb.project={CONFIG['wandb_project']}\"\n",
        "    if CONFIG['wandb_name']:\n",
        "        cmd += f\" \\\n",
        "    --wandb.name={CONFIG['wandb_name']}\"\n",
        "\n",
        "print(\"Training command:\")\n",
        "print(cmd)\n",
        "print(\"\\n\" + \"=\"*60)\n",
        "print(\"Starting training...\")\n",
        "print(\"=\"*60 + \"\\n\")\n",
        "\n",
        "# Run training\n",
        "!{cmd}"
      ]
    },
    {
      "cell_type": "markdown",
      "metadata": {
        "id": "analysis_section"
      },
      "source": [
        "## Step 3: Analyze Results\n",
        "\n",
        "Load the trained model."
      ]
    },
    {
      "cell_type": "code",
      "execution_count": null,
      "metadata": {
        "id": "load_model"
      },
      "outputs": [],
      "source": [
        "import torch\n",
        "import numpy as np\n",
        "import matplotlib.pyplot as plt\n",
        "from vae.model import VAE\n",
        "from data.data_io import load_and_split\n",
        "\n",
        "# Load trained model\n",
        "device = 'cuda' if torch.cuda.is_available() else 'cpu'\n",
        "checkpoint = torch.load(os.path.join('./out', 'vae_gaus_i64_k5_z10_beta1.0/model.pt'), map_location=device)\n",
        "config = checkpoint['config']\n",
        "\n",
        "print(\"Model configuration:\")\n",
        "print(f\"  Latent dim: {config['model']['latent_dim']}\")\n",
        "print(f\"  Hidden dims: {config['model']['hidden_dims']}\")\n",
        "print(f\"  Beta: {config['model']['kl_beta']}\")\n",
        "print(f\"\\nTest statistics:\")\n",
        "for k, v in checkpoint['test_stats'].items():\n",
        "    print(f\"  {k}: {v:.4f}\")"
      ]
    },
    {
      "cell_type": "code",
      "execution_count": null,
      "metadata": {
        "id": "recreate_model"
      },
      "outputs": [],
      "source": [
        "# Recreate model\n",
        "model_config = config['model']\n",
        "input_dim = checkpoint['model_state_dict']['mean.weight'].shape[1]\n",
        "\n",
        "model = VAE(\n",
        "    input_dim=input_dim,\n",
        "    latent_dim=model_config['latent_dim'],\n",
        "    hidden_dims=model_config['hidden_dims'],\n",
        "    likelihood=model_config['likelihood'],\n",
        "    beta=model_config['kl_beta'],\n",
        "    activation=model_config.get('activation', 'LeakyReLU')\n",
        ")\n",
        "\n",
        "model.load_state_dict(checkpoint['model_state_dict'])\n",
        "model.to(device)\n",
        "model.eval()\n",
        "\n",
        "print(\"Model loaded successfully!\")"
      ]
    },
    {
      "cell_type": "code",
      "execution_count": null,
      "metadata": {
        "id": "load_test_data"
      },
      "outputs": [],
      "source": [
        "# Load test data\n",
        "data_dir = config['data']['data_dir']\n",
        "data = load_and_split(data_dir, normalize=True)\n",
        "\n",
        "X_test = torch.tensor(data['X_test'], dtype=torch.float32).to(device)\n",
        "y_test = torch.tensor(data['y_test'], dtype=torch.long)\n",
        "\n",
        "print(f\"Test set: {X_test.shape[0]} samples, {X_test.shape[1]} features\")"
      ]
    },
    {
      "cell_type": "markdown",
      "metadata": {
        "id": "download_section"
      },
      "source": [
        "## Download Results\n",
        "\n",
        "Download trained model and checkpoints to your local machine."
      ]
    },
    {
      "cell_type": "code",
      "execution_count": null,
      "metadata": {
        "id": "download_results"
      },
      "outputs": [],
      "source": [
        "# Zip the output directory\n",
        "!zip -r vae_results.zip out/\n",
        "\n",
        "print(\"Results zipped!\")\n",
        "print(\"Download 'vae_results.zip' from the file browser on the left.\")\n",
        "\n",
        "# Or use Google Drive (if mounted)\n",
        "# from google.colab import drive\n",
        "# drive.mount('/content/drive')\n",
        "# !cp -r out/ /content/drive/MyDrive/vae/"
      ]
    },
    {
      "cell_type": "markdown",
      "metadata": {
        "id": "experiment_section"
      },
      "source": [
        "## Experiment: Compare Different Beta Values\n",
        "\n",
        "Run a quick sweep to see the effect of different beta values."
      ]
    },
    {
      "cell_type": "code",
      "execution_count": null,
      "metadata": {
        "id": "OtULqONGli_Q"
      },
      "outputs": [],
      "source": [
        "# Sweep different beta values\n",
        "beta_values = [0.5, 1.0, 2.0, 4.0]\n",
        "\n",
        "for beta in beta_values:\n",
        "    print(f\"\\n{'='*60}\")\n",
        "    print(f\"Training with beta = {beta}\")\n",
        "    print(f\"{'='*60}\\n\")\n",
        "\n",
        "    cmd = f\"\"\"python main.py \\\\\n",
        "        --data.data_dir=./data_set/gaussian_raw \\\\\n",
        "        --model.kl_beta={beta} \\\\\n",
        "        --model.latent_dim=10 \\\\\n",
        "        --trainer.epochs=30 \\\\\n",
        "        --trainer.batch_size=128 \\\\\n",
        "        --system.out_dir=./out/vae_beta_{beta}\"\"\"\n",
        "\n",
        "    if USE_WANDB:\n",
        "        cmd += f\" \\\\\\n        --wandb.enabled=True \\\\\\n        --wandb.name=beta_{beta}\"\n",
        "\n",
        "    # Execute command\n",
        "    import os\n",
        "    os.system(cmd.replace('\\\\\\n', ' '))\n",
        "\n",
        "print(\"\\nBeta sweep complete! Check out/vae_beta_* directories for results.\")"
      ]
    }
  ],
  "metadata": {
    "language_info": {
      "name": "python"
    },
    "colab": {
      "provenance": [],
      "gpuType": "T4",
      "include_colab_link": true
    },
    "kernelspec": {
      "name": "python3",
      "display_name": "Python 3"
    },
    "accelerator": "GPU"
  },
  "nbformat": 4,
  "nbformat_minor": 0
}